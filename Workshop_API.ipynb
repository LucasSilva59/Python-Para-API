{
  "nbformat": 4,
  "nbformat_minor": 0,
  "metadata": {
    "colab": {
      "provenance": [],
      "authorship_tag": "ABX9TyPuwmx5dLi8gzh+i2+xhwK4",
      "include_colab_link": true
    },
    "kernelspec": {
      "name": "python3",
      "display_name": "Python 3"
    },
    "language_info": {
      "name": "python"
    }
  },
  "cells": [
    {
      "cell_type": "markdown",
      "metadata": {
        "id": "view-in-github",
        "colab_type": "text"
      },
      "source": [
        "<a href=\"https://colab.research.google.com/github/Marvimnas/Data_Analysis_Python/blob/main/Workshop_API.ipynb\" target=\"_parent\"><img src=\"https://colab.research.google.com/assets/colab-badge.svg\" alt=\"Open In Colab\"/></a>"
      ]
    },
    {
      "cell_type": "code",
      "execution_count": null,
      "metadata": {
        "id": "6-3CnUXdAJWe"
      },
      "outputs": [],
      "source": [
        "import pandas as pd"
      ]
    },
    {
      "cell_type": "code",
      "source": [
        "from google.colab import drive\n",
        "drive.mount('/content/drive')"
      ],
      "metadata": {
        "id": "Y75rPg4Cj3V4"
      },
      "execution_count": null,
      "outputs": []
    },
    {
      "cell_type": "code",
      "source": [
        "#ANTES DE RODAR ESSE COMANDO, FAÇA UPLOAD DOS ARQUIVOS .CSV EM UMA PASTA CHAMADA Data EM SEU GOOGLE DRIVE\n",
        "caminho_in = '/content/drive/My Drive/Data/'\n",
        "caminho_out = '/content/drive/My Drive/Data/'"
      ],
      "metadata": {
        "id": "NExzwAkkIvjZ"
      },
      "execution_count": null,
      "outputs": []
    },
    {
      "cell_type": "code",
      "source": [
        "file1 = caminho_in + '2021Atracacao.csv'\n",
        "with open(file1, 'r', encoding='UTF-8') as f:\n",
        "    linhas = f.readlines()\n",
        "    for i in range(0, 5):\n",
        "        print(f\"Linha {i+1}: {linhas[i]}\")"
      ],
      "metadata": {
        "id": "iFllzl6rj54C"
      },
      "execution_count": null,
      "outputs": []
    },
    {
      "cell_type": "code",
      "source": [
        "df1 = pd.read_csv(file1, low_memory=False, sep=';', encoding = 'UTF-8', decimal =\",\")\n",
        "df1.info()"
      ],
      "metadata": {
        "id": "PaTFmya1l4z2"
      },
      "execution_count": null,
      "outputs": []
    },
    {
      "cell_type": "code",
      "source": [
        "file2 = caminho_in + '2022Atracacao.csv'\n",
        "with open(file2, 'r', encoding='UTF-8') as f:\n",
        "    linhas = f.readlines()\n",
        "    for i in range(0, 5):\n",
        "        print(f\"Linha {i+1}: {linhas[i]}\")"
      ],
      "metadata": {
        "id": "ugoDKpBalukt"
      },
      "execution_count": null,
      "outputs": []
    },
    {
      "cell_type": "code",
      "source": [
        "df2 = pd.read_csv(file2, low_memory=False, sep=';', encoding = 'UTF-8', decimal =\",\")\n",
        "df2.info()"
      ],
      "metadata": {
        "id": "NIloyo9tFsjK"
      },
      "execution_count": null,
      "outputs": []
    },
    {
      "cell_type": "code",
      "source": [
        "csv_final = [file1, file2]\n",
        "ANTAQ_Int = pd.DataFrame()\n",
        "for csv_final in csv_final:\n",
        "    df = pd.read_csv(csv_final, sep = ';')\n",
        "    ANTAQ_Int = pd.concat([ANTAQ_Int, df], ignore_index=True)\n",
        "ANTAQ_Int.info()\n"
      ],
      "metadata": {
        "id": "EybP3S-cj-nV"
      },
      "execution_count": null,
      "outputs": []
    },
    {
      "cell_type": "code",
      "source": [
        "ANTAQ_Int.head(5)"
      ],
      "metadata": {
        "id": "nUyQ9P7KkALL"
      },
      "execution_count": null,
      "outputs": []
    },
    {
      "cell_type": "code",
      "source": [
        "ANTAQ_Int.tail(5)"
      ],
      "metadata": {
        "id": "IQYW1vAXF2yq"
      },
      "execution_count": null,
      "outputs": []
    },
    {
      "cell_type": "code",
      "source": [
        "colunas_interesse = ['IDAtracacao','IDBerco',\n",
        "                     'Data Atracação', 'Data Chegada',\n",
        "                     'Data Desatracação','Data Início Operação',\n",
        "                     'Data Término Operação']"
      ],
      "metadata": {
        "id": "z6WLukL8kCkR"
      },
      "execution_count": null,
      "outputs": []
    },
    {
      "cell_type": "code",
      "source": [
        "ANTAQ = ANTAQ_Int.dropna(subset=colunas_interesse)\n",
        "ANTAQ.info()"
      ],
      "metadata": {
        "id": "5bWOSI0wq7W3"
      },
      "execution_count": null,
      "outputs": []
    },
    {
      "cell_type": "code",
      "source": [
        "ANTAQ['Data Chegada'] = pd.to_datetime(ANTAQ['Data Chegada'], format='%d/%m/%Y %H:%M:%S')\n",
        "ANTAQ['Data Atracação'] = pd.to_datetime(ANTAQ['Data Atracação'], format='%d/%m/%Y %H:%M:%S')\n",
        "ANTAQ['Data Início Operação'] = pd.to_datetime(ANTAQ['Data Início Operação'], format='%d/%m/%Y %H:%M:%S')\n",
        "ANTAQ['Data Término Operação'] = pd.to_datetime(ANTAQ['Data Término Operação'], format='%d/%m/%Y %H:%M:%S')\n",
        "ANTAQ['Data Desatracação'] = pd.to_datetime(ANTAQ['Data Desatracação'], format='%d/%m/%Y %H:%M:%S')"
      ],
      "metadata": {
        "collapsed": true,
        "id": "nzVz8Fqrr5RG"
      },
      "execution_count": null,
      "outputs": []
    },
    {
      "cell_type": "code",
      "source": [
        "ANTAQ['Tempo_espera_chegada'] = (ANTAQ['Data Atracação'] - ANTAQ['Data Chegada']).dt.total_seconds() / 3600\n",
        "ANTAQ['Tempo_espera_inicial'] = (ANTAQ['Data Início Operação'] - ANTAQ['Data Atracação']).dt.total_seconds() / 3600\n",
        "ANTAQ['Tempo_operacao'] = (ANTAQ['Data Término Operação'] - ANTAQ['Data Início Operação']).dt.total_seconds() / 3600\n",
        "ANTAQ['Tempo_espera_final'] = (ANTAQ['Data Desatracação'] - ANTAQ['Data Término Operação']).dt.total_seconds() / 3600\n",
        "ANTAQ['Tempo_ocupacao'] = (ANTAQ['Data Desatracação'] - ANTAQ['Data Atracação']).dt.total_seconds() / 3600"
      ],
      "metadata": {
        "collapsed": true,
        "id": "lKQU6rQBFNfu"
      },
      "execution_count": null,
      "outputs": []
    },
    {
      "cell_type": "code",
      "source": [
        "ANTAQ.info()"
      ],
      "metadata": {
        "id": "Ore_ibp65298"
      },
      "execution_count": null,
      "outputs": []
    },
    {
      "cell_type": "code",
      "source": [
        "duplicados = ANTAQ.duplicated(subset=['IDAtracacao'], keep=False)\n",
        "if duplicados.any():\n",
        "    print(\"Existem valores duplicados.\")\n",
        "    print(ANTAQ[duplicados])\n",
        "else:\n",
        "    print(\"Coluna com valores unicos.\")"
      ],
      "metadata": {
        "id": "xaqihuIDoTsM"
      },
      "execution_count": null,
      "outputs": []
    },
    {
      "cell_type": "code",
      "source": [
        "coluna = 'Complexo Portuário'\n",
        "CP = ANTAQ[coluna].value_counts().sort_index()\n",
        "print(f\"Total de operações por {coluna}:\")\n",
        "print(CP)"
      ],
      "metadata": {
        "id": "UsQF5NNlslUU"
      },
      "execution_count": null,
      "outputs": []
    },
    {
      "cell_type": "code",
      "source": [
        "porto = 'Santos'\n",
        "navegacao = 'Longo Curso'\n",
        "filtro =  ANTAQ[(ANTAQ['Complexo Portuário'] == porto) &\n",
        "                (ANTAQ['Tipo de Navegação da Atracação'] == navegacao)]\n",
        "tabela = filtro.groupby('Berço').agg({'Berço': 'count'}).rename(columns={'Berço': 'Total'})\n",
        "print(tabela)"
      ],
      "metadata": {
        "id": "0-OmK_RZspTg"
      },
      "execution_count": null,
      "outputs": []
    },
    {
      "cell_type": "code",
      "source": [
        "filtro.info()"
      ],
      "metadata": {
        "id": "6Ac1BW3-s03i"
      },
      "execution_count": null,
      "outputs": []
    },
    {
      "cell_type": "code",
      "source": [
        "colunas_interesse1 = ['IDAtracacao','CDTUP','Berço','Porto Atracação', 'Complexo Portuário','Tipo de Navegação da Atracação',\n",
        "                      'Data Chegada','Data Atracação','Data Início Operação','Data Término Operação','Data Desatracação',\n",
        "                      'Tempo_espera_chegada', 'Tempo_espera_inicial','Tempo_operacao', 'Tempo_espera_final', 'Tempo_ocupacao']\n",
        "ANTAQ[colunas_interesse1].to_csv(caminho_out + 'Atracacao_final.csv', index=False)"
      ],
      "metadata": {
        "id": "V4U21KrfswvX"
      },
      "execution_count": null,
      "outputs": []
    },
    {
      "cell_type": "code",
      "source": [
        "drive.mount('/content/drive')\n",
        "arquivo = '/content/drive/My Drive/Data/Atracacao_final.csv'\n",
        "with open(arquivo, 'r', encoding='UTF-8') as f:\n",
        "    linhas = f.readlines()\n",
        "    for i in range(0, 5):\n",
        "        print(f\"Linha {i+1}: {linhas[i]}\")\n"
      ],
      "metadata": {
        "id": "uMKHoQQatEpI"
      },
      "execution_count": null,
      "outputs": []
    },
    {
      "cell_type": "code",
      "source": [
        "df = pd.read_csv(arquivo, low_memory=False, sep=',', encoding='UTF-8')\n",
        "df.head()"
      ],
      "metadata": {
        "id": "8Z8udzzHvyBH"
      },
      "execution_count": null,
      "outputs": []
    },
    {
      "cell_type": "code",
      "source": [
        "file3 = caminho_in+'2021Carga.csv'\n",
        "with open(file3, 'r', encoding='UTF-8') as f:\n",
        "    linhas = f.readlines()\n",
        "    for i in range(0, 5):\n",
        "        print(f\"Linha {i+1}: {linhas[i]}\")"
      ],
      "metadata": {
        "id": "WyTgaoGRYjHU"
      },
      "execution_count": null,
      "outputs": []
    },
    {
      "cell_type": "code",
      "source": [
        "df2 = pd.read_csv(file3, low_memory=False, sep=';', encoding = 'UTF-8', decimal =\",\")\n",
        "df2.info()"
      ],
      "metadata": {
        "id": "Co-tXvE2hh5a"
      },
      "execution_count": null,
      "outputs": []
    },
    {
      "cell_type": "code",
      "source": [
        "df2.head(5)"
      ],
      "metadata": {
        "id": "ENPCfgWfiqJa"
      },
      "execution_count": null,
      "outputs": []
    },
    {
      "cell_type": "code",
      "source": [
        "file4 = caminho_in+'2022Carga.csv'\n",
        "with open(file3, 'r', encoding='UTF-8') as f:\n",
        "    linhas = f.readlines()\n",
        "    for i in range(0, 5):\n",
        "        print(f\"Linha {i+1}: {linhas[i]}\")"
      ],
      "metadata": {
        "id": "MHpyl0KcPgZR"
      },
      "execution_count": null,
      "outputs": []
    },
    {
      "cell_type": "code",
      "source": [
        "csv_final = [file3, file4]\n",
        "Carga_Int = pd.DataFrame()\n",
        "for csv_final in csv_final:\n",
        "    df = pd.read_csv(csv_final, sep=';', low_memory=False)\n",
        "    Carga_Int = pd.concat([Carga_Int, df], ignore_index=True)\n",
        "Carga_Int.info()"
      ],
      "metadata": {
        "id": "5Fwk7J2iPp4S"
      },
      "execution_count": null,
      "outputs": []
    },
    {
      "cell_type": "code",
      "source": [
        "duplicados2 = Carga_Int.duplicated(subset=['IDAtracacao'], keep=False)\n",
        "if duplicados2.any():\n",
        "    print(\"Existem valores duplicados.\")\n",
        "else:\n",
        "    print(\"Coluna com valores unicos.\")"
      ],
      "metadata": {
        "id": "k1auWEPi3Rou"
      },
      "execution_count": null,
      "outputs": []
    },
    {
      "cell_type": "code",
      "source": [
        "sentido = 'Embarcados'\n",
        "navegacao = 'Longo Curso'\n",
        "cargas = ['1201','1005','2710','2606']\n",
        "operacao = 'Exclusivo'\n",
        "df3 = Carga_Int[(Carga_Int['Sentido'] == sentido) &\n",
        "                (Carga_Int['Tipo Navegação'] == navegacao) &\n",
        "                (Carga_Int['CDMercadoria'].isin(cargas)) &\n",
        "                (Carga_Int['STSH4'] == operacao)]\n",
        "df3.info()"
      ],
      "metadata": {
        "id": "dFS6Yhyc4clL"
      },
      "execution_count": null,
      "outputs": []
    },
    {
      "cell_type": "code",
      "source": [
        "coluna = ['IDAtracacao', 'CDMercadoria', 'Sentido', 'Natureza da Carga']\n",
        "coluna_valor = 'VLPesoCargaBruta'\n",
        "cargas = df3.groupby(coluna)[coluna_valor].sum().reset_index()"
      ],
      "metadata": {
        "id": "AW1GdJR4yyD_"
      },
      "execution_count": null,
      "outputs": []
    },
    {
      "cell_type": "code",
      "source": [
        "cargas.head(5)"
      ],
      "metadata": {
        "id": "9KPC9ArM3g9A"
      },
      "execution_count": null,
      "outputs": []
    },
    {
      "cell_type": "code",
      "source": [
        "final = pd.merge(ANTAQ, cargas, left_on='IDAtracacao', right_on='IDAtracacao', how='inner')"
      ],
      "metadata": {
        "id": "FvliDa9C38lw"
      },
      "execution_count": null,
      "outputs": []
    },
    {
      "cell_type": "code",
      "source": [
        "final.info()"
      ],
      "metadata": {
        "id": "vDmD3McUKw0l"
      },
      "execution_count": null,
      "outputs": []
    },
    {
      "cell_type": "code",
      "source": [
        "final.head(5)"
      ],
      "metadata": {
        "id": "CzbriPW3Kx2J"
      },
      "execution_count": null,
      "outputs": []
    },
    {
      "cell_type": "code",
      "source": [
        "final.mean(numeric_only=True)"
      ],
      "metadata": {
        "id": "9Py7m3G8K0qK"
      },
      "execution_count": null,
      "outputs": []
    },
    {
      "cell_type": "code",
      "source": [
        "colunas_desejadas = ['Tempo_espera_chegada', 'Tempo_espera_inicial',\n",
        "                     'Tempo_operacao', 'Tempo_espera_final',\n",
        "                     'Tempo_ocupacao', 'VLPesoCargaBruta']\n",
        "\n",
        "media_selecionada = final[colunas_desejadas].mean(numeric_only=True)\n",
        "pd.options.display.float_format = '{:.6f}'.format\n",
        "print(media_selecionada)"
      ],
      "metadata": {
        "id": "l4H444_VK-hp"
      },
      "execution_count": null,
      "outputs": []
    },
    {
      "cell_type": "code",
      "source": [
        "import matplotlib as plt\n",
        "import seaborn as sns\n",
        "sns.set(style='whitegrid', palette=\"deep\", font_scale=1.1, rc={\"figure.figsize\": [8, 5]})"
      ],
      "metadata": {
        "id": "8wvvWeO5LR5x"
      },
      "execution_count": null,
      "outputs": []
    },
    {
      "cell_type": "code",
      "source": [
        "espera_atracar = final['Tempo_espera_chegada']\n",
        "espera_atracar.describe()"
      ],
      "metadata": {
        "id": "ACi_35ZXLbff"
      },
      "execution_count": null,
      "outputs": []
    },
    {
      "cell_type": "code",
      "source": [
        "sns.histplot(espera_atracar)"
      ],
      "metadata": {
        "id": "_KKMeCuTLp4a"
      },
      "execution_count": null,
      "outputs": []
    },
    {
      "cell_type": "code",
      "source": [
        "final.to_csv(caminho_out+'Base_final_ANTAQ.csv', index=False)"
      ],
      "metadata": {
        "id": "t6DK3x16MfOs"
      },
      "execution_count": null,
      "outputs": []
    },
    {
      "cell_type": "code",
      "source": [],
      "metadata": {
        "id": "xModhlRMMphJ"
      },
      "execution_count": null,
      "outputs": []
    }
  ]
}